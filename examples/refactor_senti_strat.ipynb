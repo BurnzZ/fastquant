{
 "cells": [
  {
   "cell_type": "code",
   "execution_count": 1,
   "metadata": {},
   "outputs": [],
   "source": [
    "from fastquant import get_yahoo_data, get_bt_news, backtest, DisclosuresPSE"
   ]
  },
  {
   "cell_type": "markdown",
   "metadata": {},
   "source": [
    "## current\n",
    "TODO:\n",
    "* remove `page_nums`\n",
    "* factor out `get_bt_news()`"
   ]
  },
  {
   "cell_type": "code",
   "execution_count": null,
   "metadata": {},
   "outputs": [],
   "source": [
    "#current usage\n",
    "df = get_yahoo_data(\"TSLA\", \"2019-01-01\", \"2020-06-10\")\n",
    "\n",
    "backtest(\"sentiment\", df, keyword=\"tesla\", page_nums=1, senti=0.4)"
   ]
  },
  {
   "cell_type": "markdown",
   "metadata": {},
   "source": [
    "## proposed change\n",
    "\n",
    "* uses `disclosures` in backtest which maps to `DisclosuresSentimentStrategy` which is basically `SentimentStrategy` but with `sentiments` argument "
   ]
  },
  {
   "cell_type": "code",
   "execution_count": null,
   "metadata": {},
   "outputs": [],
   "source": [
    "df = get_yahoo_data(\"TSLA\", \"2019-01-01\", \"2020-06-10\")\n",
    "sentiments = get_bt_news(keyword=\"tesla\", page_nums=1)\n",
    "\n",
    "backtest(\"disclosures\", df, sentiments=sentiments, senti=0.4)"
   ]
  },
  {
   "cell_type": "markdown",
   "metadata": {},
   "source": [
    "## same for disclosures"
   ]
  },
  {
   "cell_type": "code",
   "execution_count": 2,
   "metadata": {},
   "outputs": [
    {
     "name": "stdout",
     "output_type": "stream",
     "text": [
      "Pulling JFC disclosures summary...\n",
      "3 pages detected!\n",
      "Found 145 disclosures between 01-01-2015 & 06-28-2020 with 16 types:\n",
      "['Material Information/Transactions'\n",
      " \"Notice of Annual or Special Stockholders' Meeting\" 'Press Release'\n",
      " \"Notice of Analysts'/Investors' Briefing\" 'Declaration of Cash Dividends'\n",
      " 'Joint Ventures' 'Change in Corporate Contact Details and/or Website'\n",
      " 'Substantial Acquisitions' 'Clarification of News Reports'\n",
      " \"Results of Annual or Special Stockholders' Meeting\"\n",
      " 'Results of Organizational Meeting of Board of Directors'\n",
      " 'Acquisition or Disposition of Shares of Another Corporation'\n",
      " 'Change in Directors and/or Officers (Resignation, Removal or Appointment, Election and/or Promotion)'\n",
      " 'Amendments to By-Laws' 'Amendments to Articles of Incorporation'\n",
      " 'Update on Corporate Actions/Material Transactions/Agreements']\n",
      "Pulling details in all JFC disclosures...\n"
     ]
    },
    {
     "name": "stderr",
     "output_type": "stream",
     "text": [
      "100%|██████████| 1/1 [00:00<00:00,  1.27it/s]\n"
     ]
    },
    {
     "name": "stdout",
     "output_type": "stream",
     "text": [
      "Loaded: /home/jp/github/research/project/fastquant/python/fastquant/data/JFC_disclosures_01-01-2015_06-25-2020.csv\n",
      "Pulling JFC stock data...\n"
     ]
    },
    {
     "name": "stderr",
     "output_type": "stream",
     "text": [
      "19it [00:06,  2.87it/s]\n"
     ]
    }
   ],
   "source": [
    "dpse = DisclosuresPSE(\"JFC\", start_date=\"01-01-2015\")\n",
    "df = dpse.get_sentiments()"
   ]
  },
  {
   "cell_type": "code",
   "execution_count": 4,
   "metadata": {},
   "outputs": [
    {
     "data": {
      "text/html": [
       "<div>\n",
       "<style scoped>\n",
       "    .dataframe tbody tr th:only-of-type {\n",
       "        vertical-align: middle;\n",
       "    }\n",
       "\n",
       "    .dataframe tbody tr th {\n",
       "        vertical-align: top;\n",
       "    }\n",
       "\n",
       "    .dataframe thead th {\n",
       "        text-align: right;\n",
       "    }\n",
       "</style>\n",
       "<table border=\"1\" class=\"dataframe\">\n",
       "  <thead>\n",
       "    <tr style=\"text-align: right;\">\n",
       "      <th></th>\n",
       "      <th>close</th>\n",
       "      <th>sentiment_score</th>\n",
       "    </tr>\n",
       "  </thead>\n",
       "  <tbody>\n",
       "    <tr>\n",
       "      <th>2020-06-15</th>\n",
       "      <td>144.2</td>\n",
       "      <td>NaN</td>\n",
       "    </tr>\n",
       "    <tr>\n",
       "      <th>2020-06-16</th>\n",
       "      <td>142.5</td>\n",
       "      <td>NaN</td>\n",
       "    </tr>\n",
       "    <tr>\n",
       "      <th>2020-06-17</th>\n",
       "      <td>145.0</td>\n",
       "      <td>0.43440</td>\n",
       "    </tr>\n",
       "    <tr>\n",
       "      <th>2020-06-18</th>\n",
       "      <td>149.9</td>\n",
       "      <td>NaN</td>\n",
       "    </tr>\n",
       "    <tr>\n",
       "      <th>2020-06-19</th>\n",
       "      <td>150.0</td>\n",
       "      <td>0.31525</td>\n",
       "    </tr>\n",
       "    <tr>\n",
       "      <th>2020-06-22</th>\n",
       "      <td>149.1</td>\n",
       "      <td>NaN</td>\n",
       "    </tr>\n",
       "    <tr>\n",
       "      <th>2020-06-23</th>\n",
       "      <td>144.0</td>\n",
       "      <td>NaN</td>\n",
       "    </tr>\n",
       "    <tr>\n",
       "      <th>2020-06-24</th>\n",
       "      <td>143.9</td>\n",
       "      <td>NaN</td>\n",
       "    </tr>\n",
       "    <tr>\n",
       "      <th>2020-06-25</th>\n",
       "      <td>141.2</td>\n",
       "      <td>0.39970</td>\n",
       "    </tr>\n",
       "    <tr>\n",
       "      <th>2020-06-26</th>\n",
       "      <td>140.2</td>\n",
       "      <td>NaN</td>\n",
       "    </tr>\n",
       "  </tbody>\n",
       "</table>\n",
       "</div>"
      ],
      "text/plain": [
       "            close  sentiment_score\n",
       "2020-06-15  144.2              NaN\n",
       "2020-06-16  142.5              NaN\n",
       "2020-06-17  145.0          0.43440\n",
       "2020-06-18  149.9              NaN\n",
       "2020-06-19  150.0          0.31525\n",
       "2020-06-22  149.1              NaN\n",
       "2020-06-23  144.0              NaN\n",
       "2020-06-24  143.9              NaN\n",
       "2020-06-25  141.2          0.39970\n",
       "2020-06-26  140.2              NaN"
      ]
     },
     "execution_count": 4,
     "metadata": {},
     "output_type": "execute_result"
    }
   ],
   "source": [
    "df[['close','sentiment_score']].tail(10)"
   ]
  },
  {
   "cell_type": "code",
   "execution_count": null,
   "metadata": {},
   "outputs": [],
   "source": [
    "backtest(\"disclosures\", df, senti=0.4)"
   ]
  }
 ],
 "metadata": {
  "kernelspec": {
   "display_name": "Python 3",
   "language": "python",
   "name": "python3"
  },
  "language_info": {
   "codemirror_mode": {
    "name": "ipython",
    "version": 3
   },
   "file_extension": ".py",
   "mimetype": "text/x-python",
   "name": "python",
   "nbconvert_exporter": "python",
   "pygments_lexer": "ipython3",
   "version": "3.8.3"
  },
  "toc": {
   "base_numbering": 1,
   "nav_menu": {},
   "number_sections": true,
   "sideBar": true,
   "skip_h1_title": false,
   "title_cell": "Table of Contents",
   "title_sidebar": "Contents",
   "toc_cell": false,
   "toc_position": {},
   "toc_section_display": true,
   "toc_window_display": false
  }
 },
 "nbformat": 4,
 "nbformat_minor": 4
}
