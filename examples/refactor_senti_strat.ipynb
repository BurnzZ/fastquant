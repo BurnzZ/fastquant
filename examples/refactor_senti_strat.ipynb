{
 "cells": [
  {
   "cell_type": "code",
   "execution_count": 5,
   "metadata": {},
   "outputs": [],
   "source": [
    "from fastquant import get_yahoo_data, get_bt_news, backtest, DisclosuresPSE"
   ]
  },
  {
   "cell_type": "markdown",
   "metadata": {},
   "source": [
    "## current\n",
    "TODO:\n",
    "* remove `page_nums`\n",
    "* factor out `get_bt_news()`"
   ]
  },
  {
   "cell_type": "code",
   "execution_count": null,
   "metadata": {},
   "outputs": [],
   "source": [
    "#current usage\n",
    "df = get_yahoo_data(\"TSLA\", \"2019-01-01\", \"2020-06-10\")\n",
    "\n",
    "backtest(\"sentiment\", df, keyword=\"tesla\", page_nums=1, senti=0.4)"
   ]
  },
  {
   "cell_type": "markdown",
   "metadata": {},
   "source": [
    "## proposed change\n",
    "\n",
    "* uses `disclosures` in backtest which maps to `DisclosuresSentimentStrategy` which is basically `SentimentStrategy` but with `sentiments` argument "
   ]
  },
  {
   "cell_type": "code",
   "execution_count": null,
   "metadata": {},
   "outputs": [],
   "source": [
    "df = get_yahoo_data(\"TSLA\", \"2019-01-01\", \"2020-06-10\")\n",
    "sentiments = get_bt_news(keyword=\"tesla\", page_nums=1)\n",
    "\n",
    "backtest(\"disclosures\", df, sentiments=sentiments, senti=0.4)"
   ]
  },
  {
   "cell_type": "markdown",
   "metadata": {},
   "source": [
    "## same for disclosures"
   ]
  },
  {
   "cell_type": "code",
   "execution_count": 2,
   "metadata": {},
   "outputs": [
    {
     "name": "stdout",
     "output_type": "stream",
     "text": [
      "Pulling JFC disclosures summary...\n",
      "3 pages detected!\n",
      "Found 145 disclosures between 01-01-2015 & 06-26-2020 with 16 types:\n",
      "['Material Information/Transactions'\n",
      " \"Notice of Annual or Special Stockholders' Meeting\" 'Press Release'\n",
      " \"Notice of Analysts'/Investors' Briefing\" 'Declaration of Cash Dividends'\n",
      " 'Joint Ventures' 'Change in Corporate Contact Details and/or Website'\n",
      " 'Substantial Acquisitions' 'Clarification of News Reports'\n",
      " \"Results of Annual or Special Stockholders' Meeting\"\n",
      " 'Results of Organizational Meeting of Board of Directors'\n",
      " 'Acquisition or Disposition of Shares of Another Corporation'\n",
      " 'Change in Directors and/or Officers (Resignation, Removal or Appointment, Election and/or Promotion)'\n",
      " 'Amendments to By-Laws' 'Amendments to Articles of Incorporation'\n",
      " 'Update on Corporate Actions/Material Transactions/Agreements']\n",
      "Pulling details in all JFC disclosures...\n"
     ]
    },
    {
     "name": "stderr",
     "output_type": "stream",
     "text": [
      "100%|██████████| 1/1 [00:00<00:00,  1.21it/s]\n"
     ]
    },
    {
     "name": "stdout",
     "output_type": "stream",
     "text": [
      "Loaded: /home/jp/github/research/project/fastquant/python/fastquant/data/JFC_disclosures_01-01-2015_06-25-2020.csv\n",
      "Pulling JFC stock data...\n"
     ]
    },
    {
     "name": "stderr",
     "output_type": "stream",
     "text": [
      "17it [00:05,  2.68it/s]\n"
     ]
    }
   ],
   "source": [
    "dpse = DisclosuresPSE(\"JFC\", start_date=\"01-01-2015\")\n",
    "df = dpse.get_stock_data()\n",
    "sentiments = dpse.get_sentiments()"
   ]
  },
  {
   "cell_type": "code",
   "execution_count": 3,
   "metadata": {},
   "outputs": [
    {
     "data": {
      "text/plain": [
       "{datetime.date(2020, 6, 25): 0.3997,\n",
       " datetime.date(2020, 6, 19): 0.31525000000000003,\n",
       " datetime.date(2020, 6, 17): 0.43439999999999995,\n",
       " datetime.date(2020, 5, 28): 0.392575,\n",
       " datetime.date(2020, 5, 22): 0.3548,\n",
       " datetime.date(2020, 4, 15): 0.8251,\n",
       " datetime.date(2020, 4, 7): 0.6808,\n",
       " datetime.date(2020, 3, 20): 0.8074,\n",
       " datetime.date(2020, 3, 16): 0.24695,\n",
       " datetime.date(2020, 3, 13): 0.0,\n",
       " datetime.date(2020, 2, 18): 0.0,\n",
       " datetime.date(2020, 2, 4): 0.0,\n",
       " datetime.date(2020, 1, 24): 0.0,\n",
       " datetime.date(2020, 1, 17): 0.1334,\n",
       " datetime.date(2020, 1, 9): 0.4767,\n",
       " datetime.date(2019, 11, 14): 0.4767,\n",
       " datetime.date(2019, 11, 11): 0.20327777777777778,\n",
       " datetime.date(2019, 10, 7): 0.0,\n",
       " datetime.date(2019, 10, 2): 0.3028,\n",
       " datetime.date(2019, 9, 24): 0.4767,\n",
       " datetime.date(2019, 9, 16): 0.0,\n",
       " datetime.date(2019, 9, 6): 0.4215,\n",
       " datetime.date(2019, 8, 5): 0.19715,\n",
       " datetime.date(2019, 8, 1): 0.7351,\n",
       " datetime.date(2019, 7, 8): 0.4404,\n",
       " datetime.date(2019, 7, 1): 0.288675,\n",
       " datetime.date(2019, 6, 28): 0.4215,\n",
       " datetime.date(2019, 5, 29): 0.8316,\n",
       " datetime.date(2019, 5, 15): 0.0,\n",
       " datetime.date(2019, 4, 22): 0.0,\n",
       " datetime.date(2019, 4, 11): 0.0,\n",
       " datetime.date(2019, 4, 8): 0.0,\n",
       " datetime.date(2019, 2, 14): 0.4767,\n",
       " datetime.date(2018, 12, 21): 0.4404,\n",
       " datetime.date(2018, 12, 14): 0.4767,\n",
       " datetime.date(2018, 12, 3): 0.27995000000000003,\n",
       " datetime.date(2018, 11, 19): 0.24003333333333332,\n",
       " datetime.date(2018, 11, 12): 0.4410875,\n",
       " datetime.date(2018, 11, 9): 0.2615,\n",
       " datetime.date(2018, 10, 15): 0.3028,\n",
       " datetime.date(2018, 9, 7): 0.42922000000000005,\n",
       " datetime.date(2018, 8, 14): 0.0,\n",
       " datetime.date(2018, 7, 5): 0.24773333333333333,\n",
       " datetime.date(2018, 7, 2): 0.4767,\n",
       " datetime.date(2018, 6, 29): 0.4767,\n",
       " datetime.date(2018, 5, 9): 0.7783,\n",
       " datetime.date(2018, 4, 17): 0.0,\n",
       " datetime.date(2018, 4, 11): 0.4404,\n",
       " datetime.date(2018, 4, 6): 0.21334375,\n",
       " datetime.date(2018, 4, 5): 0.0,\n",
       " datetime.date(2018, 3, 8): 0.3028,\n",
       " datetime.date(2018, 2, 14): 0.4767,\n",
       " datetime.date(2018, 2, 13): 0.0,\n",
       " datetime.date(2017, 12, 26): 0.38782857142857147,\n",
       " datetime.date(2017, 12, 5): 0.0,\n",
       " datetime.date(2017, 11, 10): 0.18574166666666667,\n",
       " datetime.date(2017, 11, 2): 0.4486666666666667,\n",
       " datetime.date(2017, 10, 9): 0.2553,\n",
       " datetime.date(2017, 9, 19): 0.0,\n",
       " datetime.date(2017, 8, 14): 0.43723124999999996,\n",
       " datetime.date(2017, 7, 5): 0.16463333333333333,\n",
       " datetime.date(2017, 7, 3): 0.0,\n",
       " datetime.date(2017, 6, 30): 0.3849,\n",
       " datetime.date(2017, 5, 12): 0.0,\n",
       " datetime.date(2017, 5, 11): 0.0,\n",
       " datetime.date(2017, 4, 6): 0.0,\n",
       " datetime.date(2017, 4, 5): 0.4939,\n",
       " datetime.date(2017, 4, 3): 0.4939,\n",
       " datetime.date(2017, 3, 29): 0.3182,\n",
       " datetime.date(2017, 3, 14): 0.4767,\n",
       " datetime.date(2017, 2, 16): 0.296,\n",
       " datetime.date(2017, 2, 14): 0.0,\n",
       " datetime.date(2017, 1, 3): 0.1871857142857143,\n",
       " datetime.date(2016, 12, 23): 0.48059999999999997,\n",
       " datetime.date(2016, 12, 15): 0.0,\n",
       " datetime.date(2016, 12, 13): 0.4404,\n",
       " datetime.date(2016, 11, 23): 0.244075,\n",
       " datetime.date(2016, 11, 21): 0.244075,\n",
       " datetime.date(2016, 11, 17): 0.4019,\n",
       " datetime.date(2016, 11, 15): 0.6705,\n",
       " datetime.date(2016, 11, 11): 0.288675,\n",
       " datetime.date(2016, 8, 9): 0.5525,\n",
       " datetime.date(2016, 7, 22): 0.7003,\n",
       " datetime.date(2016, 5, 25): 0.4939,\n",
       " datetime.date(2016, 5, 13): 0.4404,\n",
       " datetime.date(2016, 5, 12): 0.0,\n",
       " datetime.date(2016, 4, 22): 0.0,\n",
       " datetime.date(2016, 4, 11): 0.4767,\n",
       " datetime.date(2016, 4, 6): 0.3182,\n",
       " datetime.date(2016, 2, 24): 0.4404,\n",
       " datetime.date(2016, 2, 15): 0.20413333333333336,\n",
       " datetime.date(2016, 2, 9): 0.5423,\n",
       " datetime.date(2016, 1, 14): 0.6597,\n",
       " datetime.date(2015, 11, 23): 0.19328333333333333,\n",
       " datetime.date(2015, 11, 9): 0.09232,\n",
       " datetime.date(2015, 11, 2): 0.24015,\n",
       " datetime.date(2015, 10, 27): 0.3597000000000001,\n",
       " datetime.date(2015, 10, 13): 0.21075,\n",
       " datetime.date(2015, 10, 2): 0.31525000000000003,\n",
       " datetime.date(2015, 9, 18): 0.0,\n",
       " datetime.date(2015, 8, 26): 0.9081,\n",
       " datetime.date(2015, 8, 7): 0.3182,\n",
       " datetime.date(2015, 6, 29): 0.3797375,\n",
       " datetime.date(2015, 6, 26): 0.3797375,\n",
       " datetime.date(2015, 5, 14): 0.1369,\n",
       " datetime.date(2015, 5, 13): 0.3997,\n",
       " datetime.date(2015, 4, 8): 0.2404,\n",
       " datetime.date(2015, 2, 23): 0.4767,\n",
       " datetime.date(2015, 1, 22): -0.3182,\n",
       " datetime.date(2015, 1, 9): 0.30566,\n",
       " datetime.date(2015, 1, 6): 0.6124}"
      ]
     },
     "execution_count": 3,
     "metadata": {},
     "output_type": "execute_result"
    }
   ],
   "source": [
    "sentiments"
   ]
  },
  {
   "cell_type": "code",
   "execution_count": 7,
   "metadata": {},
   "outputs": [
    {
     "name": "stdout",
     "output_type": "stream",
     "text": [
      "Starting Portfolio Value: 100000.00\n",
      "===Global level arguments===\n",
      "init_cash : 100000\n",
      "buy_prop : 1\n",
      "sell_prop : 1\n",
      "===Strategy level arguments===\n",
      "sentiment threshold : 0.4\n"
     ]
    },
    {
     "ename": "TypeError",
     "evalue": "argument of type 'datetime.date' is not iterable",
     "output_type": "error",
     "traceback": [
      "\u001b[0;31m---------------------------------------------------------------------------\u001b[0m",
      "\u001b[0;31mTypeError\u001b[0m                                 Traceback (most recent call last)",
      "\u001b[0;32m<ipython-input-7-524f6c58c3d2>\u001b[0m in \u001b[0;36m<module>\u001b[0;34m\u001b[0m\n\u001b[0;32m----> 1\u001b[0;31m \u001b[0mbacktest\u001b[0m\u001b[0;34m(\u001b[0m\u001b[0;34m\"disclosures\"\u001b[0m\u001b[0;34m,\u001b[0m \u001b[0mdf\u001b[0m\u001b[0;34m,\u001b[0m \u001b[0msentiments\u001b[0m\u001b[0;34m=\u001b[0m\u001b[0msentiments\u001b[0m\u001b[0;34m,\u001b[0m \u001b[0msenti\u001b[0m\u001b[0;34m=\u001b[0m\u001b[0;36m0.4\u001b[0m\u001b[0;34m)\u001b[0m\u001b[0;34m\u001b[0m\u001b[0;34m\u001b[0m\u001b[0m\n\u001b[0m",
      "\u001b[0;32m~/github/research/project/fastquant/python/fastquant/strategies.py\u001b[0m in \u001b[0;36mbacktest\u001b[0;34m(strategy, data, commission, init_cash, data_format, plot, verbose, sort_by, strats, **kwargs)\u001b[0m\n\u001b[1;32m    709\u001b[0m     \u001b[0;31m# clock the start of the process\u001b[0m\u001b[0;34m\u001b[0m\u001b[0;34m\u001b[0m\u001b[0;34m\u001b[0m\u001b[0m\n\u001b[1;32m    710\u001b[0m     \u001b[0mtstart\u001b[0m \u001b[0;34m=\u001b[0m \u001b[0mtime\u001b[0m\u001b[0;34m.\u001b[0m\u001b[0mtime\u001b[0m\u001b[0;34m(\u001b[0m\u001b[0;34m)\u001b[0m\u001b[0;34m\u001b[0m\u001b[0;34m\u001b[0m\u001b[0m\n\u001b[0;32m--> 711\u001b[0;31m     \u001b[0mstratruns\u001b[0m \u001b[0;34m=\u001b[0m \u001b[0mcerebro\u001b[0m\u001b[0;34m.\u001b[0m\u001b[0mrun\u001b[0m\u001b[0;34m(\u001b[0m\u001b[0;34m)\u001b[0m\u001b[0;34m\u001b[0m\u001b[0;34m\u001b[0m\u001b[0m\n\u001b[0m\u001b[1;32m    712\u001b[0m \u001b[0;34m\u001b[0m\u001b[0m\n\u001b[1;32m    713\u001b[0m     \u001b[0;31m# clock the end of the process\u001b[0m\u001b[0;34m\u001b[0m\u001b[0;34m\u001b[0m\u001b[0;34m\u001b[0m\u001b[0m\n",
      "\u001b[0;32m~/miniconda3/envs/quant/lib/python3.8/site-packages/backtrader/cerebro.py\u001b[0m in \u001b[0;36mrun\u001b[0;34m(self, **kwargs)\u001b[0m\n\u001b[1;32m   1125\u001b[0m             \u001b[0;31m# let's skip process \"spawning\"\u001b[0m\u001b[0;34m\u001b[0m\u001b[0;34m\u001b[0m\u001b[0;34m\u001b[0m\u001b[0m\n\u001b[1;32m   1126\u001b[0m             \u001b[0;32mfor\u001b[0m \u001b[0miterstrat\u001b[0m \u001b[0;32min\u001b[0m \u001b[0miterstrats\u001b[0m\u001b[0;34m:\u001b[0m\u001b[0;34m\u001b[0m\u001b[0;34m\u001b[0m\u001b[0m\n\u001b[0;32m-> 1127\u001b[0;31m                 \u001b[0mrunstrat\u001b[0m \u001b[0;34m=\u001b[0m \u001b[0mself\u001b[0m\u001b[0;34m.\u001b[0m\u001b[0mrunstrategies\u001b[0m\u001b[0;34m(\u001b[0m\u001b[0miterstrat\u001b[0m\u001b[0;34m)\u001b[0m\u001b[0;34m\u001b[0m\u001b[0;34m\u001b[0m\u001b[0m\n\u001b[0m\u001b[1;32m   1128\u001b[0m                 \u001b[0mself\u001b[0m\u001b[0;34m.\u001b[0m\u001b[0mrunstrats\u001b[0m\u001b[0;34m.\u001b[0m\u001b[0mappend\u001b[0m\u001b[0;34m(\u001b[0m\u001b[0mrunstrat\u001b[0m\u001b[0;34m)\u001b[0m\u001b[0;34m\u001b[0m\u001b[0;34m\u001b[0m\u001b[0m\n\u001b[1;32m   1129\u001b[0m                 \u001b[0;32mif\u001b[0m \u001b[0mself\u001b[0m\u001b[0;34m.\u001b[0m\u001b[0m_dooptimize\u001b[0m\u001b[0;34m:\u001b[0m\u001b[0;34m\u001b[0m\u001b[0;34m\u001b[0m\u001b[0m\n",
      "\u001b[0;32m~/miniconda3/envs/quant/lib/python3.8/site-packages/backtrader/cerebro.py\u001b[0m in \u001b[0;36mrunstrategies\u001b[0;34m(self, iterstrat, predata)\u001b[0m\n\u001b[1;32m   1291\u001b[0m                     \u001b[0mself\u001b[0m\u001b[0;34m.\u001b[0m\u001b[0m_runonce_old\u001b[0m\u001b[0;34m(\u001b[0m\u001b[0mrunstrats\u001b[0m\u001b[0;34m)\u001b[0m\u001b[0;34m\u001b[0m\u001b[0;34m\u001b[0m\u001b[0m\n\u001b[1;32m   1292\u001b[0m                 \u001b[0;32melse\u001b[0m\u001b[0;34m:\u001b[0m\u001b[0;34m\u001b[0m\u001b[0;34m\u001b[0m\u001b[0m\n\u001b[0;32m-> 1293\u001b[0;31m                     \u001b[0mself\u001b[0m\u001b[0;34m.\u001b[0m\u001b[0m_runonce\u001b[0m\u001b[0;34m(\u001b[0m\u001b[0mrunstrats\u001b[0m\u001b[0;34m)\u001b[0m\u001b[0;34m\u001b[0m\u001b[0;34m\u001b[0m\u001b[0m\n\u001b[0m\u001b[1;32m   1294\u001b[0m             \u001b[0;32melse\u001b[0m\u001b[0;34m:\u001b[0m\u001b[0;34m\u001b[0m\u001b[0;34m\u001b[0m\u001b[0m\n\u001b[1;32m   1295\u001b[0m                 \u001b[0;32mif\u001b[0m \u001b[0mself\u001b[0m\u001b[0;34m.\u001b[0m\u001b[0mp\u001b[0m\u001b[0;34m.\u001b[0m\u001b[0moldsync\u001b[0m\u001b[0;34m:\u001b[0m\u001b[0;34m\u001b[0m\u001b[0;34m\u001b[0m\u001b[0m\n",
      "\u001b[0;32m~/miniconda3/envs/quant/lib/python3.8/site-packages/backtrader/cerebro.py\u001b[0m in \u001b[0;36m_runonce\u001b[0;34m(self, runstrats)\u001b[0m\n\u001b[1;32m   1650\u001b[0m         '''\n\u001b[1;32m   1651\u001b[0m         \u001b[0;32mfor\u001b[0m \u001b[0mstrat\u001b[0m \u001b[0;32min\u001b[0m \u001b[0mrunstrats\u001b[0m\u001b[0;34m:\u001b[0m\u001b[0;34m\u001b[0m\u001b[0;34m\u001b[0m\u001b[0m\n\u001b[0;32m-> 1652\u001b[0;31m             \u001b[0mstrat\u001b[0m\u001b[0;34m.\u001b[0m\u001b[0m_once\u001b[0m\u001b[0;34m(\u001b[0m\u001b[0;34m)\u001b[0m\u001b[0;34m\u001b[0m\u001b[0;34m\u001b[0m\u001b[0m\n\u001b[0m\u001b[1;32m   1653\u001b[0m             \u001b[0mstrat\u001b[0m\u001b[0;34m.\u001b[0m\u001b[0mreset\u001b[0m\u001b[0;34m(\u001b[0m\u001b[0;34m)\u001b[0m  \u001b[0;31m# strat called next by next - reset lines\u001b[0m\u001b[0;34m\u001b[0m\u001b[0;34m\u001b[0m\u001b[0m\n\u001b[1;32m   1654\u001b[0m \u001b[0;34m\u001b[0m\u001b[0m\n",
      "\u001b[0;32m~/miniconda3/envs/quant/lib/python3.8/site-packages/backtrader/lineiterator.py\u001b[0m in \u001b[0;36m_once\u001b[0;34m(self)\u001b[0m\n\u001b[1;32m    295\u001b[0m \u001b[0;34m\u001b[0m\u001b[0m\n\u001b[1;32m    296\u001b[0m         \u001b[0;32mfor\u001b[0m \u001b[0mindicator\u001b[0m \u001b[0;32min\u001b[0m \u001b[0mself\u001b[0m\u001b[0;34m.\u001b[0m\u001b[0m_lineiterators\u001b[0m\u001b[0;34m[\u001b[0m\u001b[0mLineIterator\u001b[0m\u001b[0;34m.\u001b[0m\u001b[0mIndType\u001b[0m\u001b[0;34m]\u001b[0m\u001b[0;34m:\u001b[0m\u001b[0;34m\u001b[0m\u001b[0;34m\u001b[0m\u001b[0m\n\u001b[0;32m--> 297\u001b[0;31m             \u001b[0mindicator\u001b[0m\u001b[0;34m.\u001b[0m\u001b[0m_once\u001b[0m\u001b[0;34m(\u001b[0m\u001b[0;34m)\u001b[0m\u001b[0;34m\u001b[0m\u001b[0;34m\u001b[0m\u001b[0m\n\u001b[0m\u001b[1;32m    298\u001b[0m \u001b[0;34m\u001b[0m\u001b[0m\n\u001b[1;32m    299\u001b[0m         \u001b[0;32mfor\u001b[0m \u001b[0mobserver\u001b[0m \u001b[0;32min\u001b[0m \u001b[0mself\u001b[0m\u001b[0;34m.\u001b[0m\u001b[0m_lineiterators\u001b[0m\u001b[0;34m[\u001b[0m\u001b[0mLineIterator\u001b[0m\u001b[0;34m.\u001b[0m\u001b[0mObsType\u001b[0m\u001b[0;34m]\u001b[0m\u001b[0;34m:\u001b[0m\u001b[0;34m\u001b[0m\u001b[0;34m\u001b[0m\u001b[0m\n",
      "\u001b[0;32m~/miniconda3/envs/quant/lib/python3.8/site-packages/backtrader/lineiterator.py\u001b[0m in \u001b[0;36m_once\u001b[0;34m(self)\u001b[0m\n\u001b[1;32m    315\u001b[0m         \u001b[0;31m# indicators are each called with its min period\u001b[0m\u001b[0;34m\u001b[0m\u001b[0;34m\u001b[0m\u001b[0;34m\u001b[0m\u001b[0m\n\u001b[1;32m    316\u001b[0m         \u001b[0mself\u001b[0m\u001b[0;34m.\u001b[0m\u001b[0mpreonce\u001b[0m\u001b[0;34m(\u001b[0m\u001b[0;36m0\u001b[0m\u001b[0;34m,\u001b[0m \u001b[0mself\u001b[0m\u001b[0;34m.\u001b[0m\u001b[0m_minperiod\u001b[0m \u001b[0;34m-\u001b[0m \u001b[0;36m1\u001b[0m\u001b[0;34m)\u001b[0m\u001b[0;34m\u001b[0m\u001b[0;34m\u001b[0m\u001b[0m\n\u001b[0;32m--> 317\u001b[0;31m         \u001b[0mself\u001b[0m\u001b[0;34m.\u001b[0m\u001b[0moncestart\u001b[0m\u001b[0;34m(\u001b[0m\u001b[0mself\u001b[0m\u001b[0;34m.\u001b[0m\u001b[0m_minperiod\u001b[0m \u001b[0;34m-\u001b[0m \u001b[0;36m1\u001b[0m\u001b[0;34m,\u001b[0m \u001b[0mself\u001b[0m\u001b[0;34m.\u001b[0m\u001b[0m_minperiod\u001b[0m\u001b[0;34m)\u001b[0m\u001b[0;34m\u001b[0m\u001b[0;34m\u001b[0m\u001b[0m\n\u001b[0m\u001b[1;32m    318\u001b[0m         \u001b[0mself\u001b[0m\u001b[0;34m.\u001b[0m\u001b[0monce\u001b[0m\u001b[0;34m(\u001b[0m\u001b[0mself\u001b[0m\u001b[0;34m.\u001b[0m\u001b[0m_minperiod\u001b[0m\u001b[0;34m,\u001b[0m \u001b[0mself\u001b[0m\u001b[0;34m.\u001b[0m\u001b[0mbuflen\u001b[0m\u001b[0;34m(\u001b[0m\u001b[0;34m)\u001b[0m\u001b[0;34m)\u001b[0m\u001b[0;34m\u001b[0m\u001b[0;34m\u001b[0m\u001b[0m\n\u001b[1;32m    319\u001b[0m \u001b[0;34m\u001b[0m\u001b[0m\n",
      "\u001b[0;32m~/miniconda3/envs/quant/lib/python3.8/site-packages/backtrader/indicator.py\u001b[0m in \u001b[0;36moncestart_via_nextstart\u001b[0;34m(self, start, end)\u001b[0m\n\u001b[1;32m    122\u001b[0m \u001b[0;34m\u001b[0m\u001b[0m\n\u001b[1;32m    123\u001b[0m             \u001b[0mself\u001b[0m\u001b[0;34m.\u001b[0m\u001b[0madvance\u001b[0m\u001b[0;34m(\u001b[0m\u001b[0;34m)\u001b[0m\u001b[0;34m\u001b[0m\u001b[0;34m\u001b[0m\u001b[0m\n\u001b[0;32m--> 124\u001b[0;31m             \u001b[0mself\u001b[0m\u001b[0;34m.\u001b[0m\u001b[0mnextstart\u001b[0m\u001b[0;34m(\u001b[0m\u001b[0;34m)\u001b[0m\u001b[0;34m\u001b[0m\u001b[0;34m\u001b[0m\u001b[0m\n\u001b[0m\u001b[1;32m    125\u001b[0m \u001b[0;34m\u001b[0m\u001b[0m\n\u001b[1;32m    126\u001b[0m     \u001b[0;32mdef\u001b[0m \u001b[0monce_via_next\u001b[0m\u001b[0;34m(\u001b[0m\u001b[0mself\u001b[0m\u001b[0;34m,\u001b[0m \u001b[0mstart\u001b[0m\u001b[0;34m,\u001b[0m \u001b[0mend\u001b[0m\u001b[0;34m)\u001b[0m\u001b[0;34m:\u001b[0m\u001b[0;34m\u001b[0m\u001b[0;34m\u001b[0m\u001b[0m\n",
      "\u001b[0;32m~/miniconda3/envs/quant/lib/python3.8/site-packages/backtrader/lineiterator.py\u001b[0m in \u001b[0;36mnextstart\u001b[0;34m(self)\u001b[0m\n\u001b[1;32m    345\u001b[0m \u001b[0;34m\u001b[0m\u001b[0m\n\u001b[1;32m    346\u001b[0m         \u001b[0;31m# Called once for 1st full calculation - defaults to regular next\u001b[0m\u001b[0;34m\u001b[0m\u001b[0;34m\u001b[0m\u001b[0;34m\u001b[0m\u001b[0m\n\u001b[0;32m--> 347\u001b[0;31m         \u001b[0mself\u001b[0m\u001b[0;34m.\u001b[0m\u001b[0mnext\u001b[0m\u001b[0;34m(\u001b[0m\u001b[0;34m)\u001b[0m\u001b[0;34m\u001b[0m\u001b[0;34m\u001b[0m\u001b[0m\n\u001b[0m\u001b[1;32m    348\u001b[0m \u001b[0;34m\u001b[0m\u001b[0m\n\u001b[1;32m    349\u001b[0m     \u001b[0;32mdef\u001b[0m \u001b[0mnext\u001b[0m\u001b[0;34m(\u001b[0m\u001b[0mself\u001b[0m\u001b[0;34m)\u001b[0m\u001b[0;34m:\u001b[0m\u001b[0;34m\u001b[0m\u001b[0;34m\u001b[0m\u001b[0m\n",
      "\u001b[0;32m~/github/research/project/fastquant/python/fastquant/indicators.py\u001b[0m in \u001b[0;36mnext\u001b[0;34m(self)\u001b[0m\n\u001b[1;32m     55\u001b[0m         \u001b[0mdate\u001b[0m \u001b[0;34m=\u001b[0m \u001b[0mself\u001b[0m\u001b[0;34m.\u001b[0m\u001b[0mdatas\u001b[0m\u001b[0;34m[\u001b[0m\u001b[0;36m0\u001b[0m\u001b[0;34m]\u001b[0m\u001b[0;34m.\u001b[0m\u001b[0mdatetime\u001b[0m\u001b[0;34m.\u001b[0m\u001b[0mdate\u001b[0m\u001b[0;34m(\u001b[0m\u001b[0;36m0\u001b[0m\u001b[0;34m)\u001b[0m\u001b[0;34m\u001b[0m\u001b[0;34m\u001b[0m\u001b[0m\n\u001b[1;32m     56\u001b[0m         \u001b[0magg_sentiment\u001b[0m \u001b[0;34m=\u001b[0m \u001b[0mself\u001b[0m\u001b[0;34m.\u001b[0m\u001b[0mparams\u001b[0m\u001b[0;34m.\u001b[0m\u001b[0magg_sentiment\u001b[0m\u001b[0;34m\u001b[0m\u001b[0;34m\u001b[0m\u001b[0m\n\u001b[0;32m---> 57\u001b[0;31m         \u001b[0;32mif\u001b[0m \u001b[0mdate\u001b[0m \u001b[0;32min\u001b[0m \u001b[0magg_sentiment\u001b[0m\u001b[0;34m:\u001b[0m\u001b[0;34m\u001b[0m\u001b[0;34m\u001b[0m\u001b[0m\n\u001b[0m\u001b[1;32m     58\u001b[0m             \u001b[0mself\u001b[0m\u001b[0;34m.\u001b[0m\u001b[0mlines\u001b[0m\u001b[0;34m.\u001b[0m\u001b[0msentiment\u001b[0m\u001b[0;34m[\u001b[0m\u001b[0;36m0\u001b[0m\u001b[0;34m]\u001b[0m \u001b[0;34m=\u001b[0m \u001b[0magg_sentiment\u001b[0m\u001b[0;34m[\u001b[0m\u001b[0mdate\u001b[0m\u001b[0;34m]\u001b[0m\u001b[0;34m\u001b[0m\u001b[0;34m\u001b[0m\u001b[0m\n",
      "\u001b[0;31mTypeError\u001b[0m: argument of type 'datetime.date' is not iterable"
     ]
    }
   ],
   "source": [
    "backtest(\"disclosures\", df, sentiments=sentiments, senti=0.4)"
   ]
  },
  {
   "cell_type": "code",
   "execution_count": null,
   "metadata": {},
   "outputs": [],
   "source": []
  }
 ],
 "metadata": {
  "kernelspec": {
   "display_name": "Python 3",
   "language": "python",
   "name": "python3"
  },
  "language_info": {
   "codemirror_mode": {
    "name": "ipython",
    "version": 3
   },
   "file_extension": ".py",
   "mimetype": "text/x-python",
   "name": "python",
   "nbconvert_exporter": "python",
   "pygments_lexer": "ipython3",
   "version": "3.8.3"
  },
  "toc": {
   "base_numbering": 1,
   "nav_menu": {},
   "number_sections": true,
   "sideBar": true,
   "skip_h1_title": false,
   "title_cell": "Table of Contents",
   "title_sidebar": "Contents",
   "toc_cell": false,
   "toc_position": {},
   "toc_section_display": true,
   "toc_window_display": false
  }
 },
 "nbformat": 4,
 "nbformat_minor": 4
}
